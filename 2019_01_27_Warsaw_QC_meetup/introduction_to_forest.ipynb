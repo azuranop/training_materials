{
 "cells": [
  {
   "cell_type": "markdown",
   "metadata": {},
   "source": [
    "# Introduction to programming quantum computers using pyQuil\n",
    "## Warsaw Quantum Computing meeting\n",
    "Video recording of this lecture is available at: https://youtu.be/FPGcmK0ftXU"
   ]
  },
  {
   "cell_type": "markdown",
   "metadata": {},
   "source": [
    "## Installations"
   ]
  },
  {
   "cell_type": "markdown",
   "metadata": {},
   "source": [
    "### Virtualenv"
   ]
  },
  {
   "cell_type": "markdown",
   "metadata": {},
   "source": [
    "First, create a new virtualenv:\n",
    "\n",
    "`$virtualenv -p python3 warsaw-qc-venv`,\n",
    "\n",
    "`$source warsaw-qc-venv/bin/activate`.\n",
    "\n",
    "Then allow jupyter to use this venv:\n",
    "\n",
    "`$pip install ipykernel`\n",
    "\n",
    "and\n",
    "\n",
    "`$ipython kernel install --user --name=warsaw_qc`\n",
    "\n",
    "(source: https://anbasile.github.io/programming/2017/06/25/jupyter-venv/)"
   ]
  },
  {
   "cell_type": "markdown",
   "metadata": {},
   "source": [
    "### Getting your environment ready"
   ]
  },
  {
   "cell_type": "markdown",
   "metadata": {},
   "source": [
    "Ok, so we need to follow the [\"Getting started\" guide](https://pyquil.readthedocs.io/en/stable/start.html) and do the following:\n",
    "\n",
    "- install pyQuil (`pip install pyquil`)\n",
    "- download QVM and compiler - follow the instructions from [the guide](https://pyquil.readthedocs.io/en/stable/start.html)\n",
    "- run 'qvm -S' in one console\n",
    "- run 'quilc -S' in second console"
   ]
  },
  {
   "cell_type": "markdown",
   "metadata": {},
   "source": [
    "Additionally, in this tutorial we also need scipy and qutip:\n",
    "- `pip install scipy`\n"
    "- `pip install qutip`"
   ]
  },
  {
   "cell_type": "markdown",
   "metadata": {},
   "source": [
    "### Visualization tools"
   ]
  },
  {
   "cell_type": "code",
   "execution_count": null,
   "metadata": {},
   "outputs": [],
   "source": [
    "%matplotlib inline\n",
    "import matplotlib.pyplot as plt\n",
    "from collections import Counter\n",
    "import numpy as np\n",
    "\n",
    "def plot_state_histogram(result):\n",
    "    total_count = len(result[0])\n",
    "    n_qubits = len(result)\n",
    "    all_states = []\n",
    "    \n",
    "    for i in range(total_count):\n",
    "        state = []\n",
    "        for j in range(n_qubits):\n",
    "            state.append(result[j][i])\n",
    "        all_states.append(tuple(state))\n",
    "\n",
    "    states_with_counts = Counter(all_states).most_common()[::-1]    \n",
    "    \n",
    "    states = np.array(states_with_counts)[:,0]\n",
    "    probs = (np.array(states_with_counts)[:,1]/total_count).astype(float)\n",
    "    n = len(states_with_counts)\n",
    "    plt.barh(range(n), probs, tick_label=states)\n",
    "    plt.show()\n"
   ]
  },
  {
   "cell_type": "code",
   "execution_count": null,
   "metadata": {},
   "outputs": [],
   "source": [
    "import cmath\n",
    "from qutip import Bloch\n",
    "from pyquil.api import WavefunctionSimulator\n",
    "\n",
    "\n",
    "def get_vector(alpha, beta):\n",
    "    \"\"\"\n",
    "    Function to compute 3D Cartesian coordinates\n",
    "    from 2D qubit vector.\n",
    "    \"\"\"\n",
    "\n",
    "    # get phases\n",
    "    angle_alpha = cmath.phase(alpha)\n",
    "    angle_beta = cmath.phase(beta)\n",
    "\n",
    "    # avoiding wrong normalization due to rounding errors\n",
    "    if cmath.isclose(angle_alpha, cmath.pi):\n",
    "        angle_alpha = 0\n",
    "    if cmath.isclose(angle_beta, cmath.pi):\n",
    "        angle_beta = 0\n",
    "        \n",
    "    if (angle_beta < 0 and angle_alpha < angle_beta) or (angle_beta > 0 and angle_alpha > angle_beta):\n",
    "            denominator = cmath.exp(1j*angle_beta)\n",
    "    else:\n",
    "            denominator = cmath.exp(1j*angle_alpha)\n",
    "\n",
    "    # eliminate global phase\n",
    "    alpha_new = alpha/denominator\n",
    "    beta_new = beta/denominator\n",
    "\n",
    "    # special case to avoid division by zero\n",
    "    if abs(alpha) == 0 or abs(beta) == 0:\n",
    "        if alpha == 0:\n",
    "            return [0,0,-1]\n",
    "        else:\n",
    "            return [0,0,1]\n",
    "    else:\n",
    "        # compute theta and phi from alpha and beta\n",
    "        theta = 2*cmath.acos(alpha_new)\n",
    "        phi = -1j*cmath.log(beta_new/cmath.sin(theta/2))\n",
    "\n",
    "        # compute the Cartesian coordinates\n",
    "        x = cmath.sin(theta)*cmath.cos(phi)\n",
    "        y = cmath.sin(theta)*cmath.sin(phi)\n",
    "        z = cmath.cos(theta)\n",
    "\n",
    "    return [x.real,y.real,z.real]\n",
    "\n",
    "def plot_quantum_state(program):\n",
    "    \"\"\"\n",
    "    Thin function to abstract the plotting on the Bloch sphere.\n",
    "    \"\"\"\n",
    "    wfn = WavefunctionSimulator().wavefunction(program)\n",
    "    amplitudes = wfn.amplitudes\n",
    "    print(amplitudes)\n",
    "    bloch_sphere = Bloch()\n",
    "    vec = get_vector(amplitudes[0], amplitudes[1])\n",
    "    bloch_sphere.add_vectors(vec)\n",
    "    bloch_sphere.show()\n",
    "    bloch_sphere.clear()\n"
   ]
  },
  {
   "cell_type": "markdown",
   "metadata": {},
   "source": [
    "## Basic programs "
   ]
  },
  {
   "cell_type": "code",
   "execution_count": null,
   "metadata": {},
   "outputs": [],
   "source": [
    "from pyquil import Program, get_qc\n",
    "from pyquil.gates import *\n",
    "from pyquil.api import WavefunctionSimulator"
   ]
  },
  {
   "cell_type": "code",
   "execution_count": null,
   "metadata": {},
   "outputs": [],
   "source": [
    "# construct an empty program\n",
    "p = Program()\n",
    "qc = get_qc('2q-qvm')\n",
    "result = qc.run_and_measure(p, trials=10)\n",
    "print(result)"
   ]
  },
  {
   "cell_type": "code",
   "execution_count": null,
   "metadata": {},
   "outputs": [],
   "source": [
    "def run_and_visualize(program, n_qubits=2, trials=10, qc=None):\n",
    "    if qc is None:\n",
    "        qc = get_qc(str(n_qubits)+'q-qvm')\n",
    "    \n",
    "    result = qc.run_and_measure(program, trials=trials)\n",
    "    if trials <= 100:\n",
    "        for i in range(n_qubits):\n",
    "            print(result[i])\n",
    "    wfn = WavefunctionSimulator().wavefunction(p)\n",
    "    print(\"wavefunction:\", wfn)\n",
    "    print(\"Probabilities:\", wfn.probabilities())\n",
    "    plot_state_histogram(result)"
   ]
  },
  {
   "cell_type": "code",
   "execution_count": null,
   "metadata": {},
   "outputs": [],
   "source": [
    "# construct an equal superposition\n",
    "p = Program(H(0))\n",
    "run_and_visualize(p, n_qubits=1, trials=100)"
   ]
  },
  {
   "cell_type": "code",
   "execution_count": null,
   "metadata": {},
   "outputs": [],
   "source": [
    "# construct an equal superposition on N qubits\n",
    "p = Program()\n",
    "N = 5\n",
    "for i in range(N):\n",
    "    p += (H(i))\n",
    "print(p)\n",
    "run_and_visualize(p, n_qubits=N, trials=100)"
   ]
  },
  {
   "cell_type": "code",
   "execution_count": null,
   "metadata": {},
   "outputs": [],
   "source": [
    "# construct a Bell State (|00> + |11>)\n",
    "p = Program(H(0), CNOT(0, 1))"
   ]
  },
  {
   "cell_type": "code",
   "execution_count": null,
   "metadata": {},
   "outputs": [],
   "source": [
    "# construct a GHZ state (|00...0> + |11...1>)\n",
    "N = 5\n",
    "p = Program(H(0))\n",
    "for i in range(1, N):\n",
    "    p += Program(CNOT(0, i))\n",
    "run_and_visualize(p, n_qubits=N)"
   ]
  },
  {
   "cell_type": "markdown",
   "metadata": {},
   "source": [
    "### Exploring gates"
   ]
  },
  {
   "cell_type": "code",
   "execution_count": null,
   "metadata": {},
   "outputs": [],
   "source": [
    "# Let's explore some basic gates: I, X, Y, Z, RX, RY, RZ, H, CNOT, SWAP"
   ]
  },
  {
   "cell_type": "code",
   "execution_count": null,
   "metadata": {},
   "outputs": [],
   "source": [
    "p = Program(H(0))\n",
    "run_and_visualize(p,1)"
   ]
  },
  {
   "cell_type": "code",
   "execution_count": null,
   "metadata": {},
   "outputs": [],
   "source": [
    "plot_quantum_state(p)"
   ]
  },
  {
   "cell_type": "markdown",
   "metadata": {},
   "source": [
    "## A little bit more complex example"
   ]
  },
  {
   "cell_type": "code",
   "execution_count": null,
   "metadata": {},
   "outputs": [],
   "source": [
    "p = Program(H(0))\n",
    "# p = Program(H(0), RZ(np.pi/2, 0))\n",
    "# p += CNOT(0, 1)\n",
    "# p += H(0)\n",
    "# p += H(1)\n",
    "run_and_visualize(p, 2)"
   ]
  },
  {
   "cell_type": "markdown",
   "metadata": {},
   "source": [
    "## Measurements"
   ]
  },
  {
   "cell_type": "code",
   "execution_count": null,
   "metadata": {},
   "outputs": [],
   "source": [
    "qc = get_qc('2q-qvm')\n",
    "p = Program()\n",
    "p += H(0)\n",
    "result = qc.run_and_measure(p, trials=10)\n",
    "print(result[0])"
   ]
  },
  {
   "cell_type": "code",
   "execution_count": null,
   "metadata": {},
   "outputs": [],
   "source": [
    "qc = get_qc('2q-qvm')\n",
    "p = Program()\n",
    "p += H(0)\n",
    "#ro is short for readout\n",
    "ro = p.declare('ro', 'BIT', 16)\n",
    "p += MEASURE(0, ro[0])\n",
    "# p += MEASURE(1, ro[1])\n",
    "result = qc.run(p)\n",
    "\n",
    "print(result)"
   ]
  },
  {
   "cell_type": "code",
   "execution_count": null,
   "metadata": {},
   "outputs": [],
   "source": [
    "qc = get_qc('2q-qvm')\n",
    "p = Program()\n",
    "p += X(0)\n",
    "#ro is short for readout\n",
    "ro = p.declare('ro', 'BIT', 16)\n",
    "p += MEASURE(0, ro[0])\n",
    "p += H(0)\n",
    "result = []\n",
    "for i in range(100):\n",
    "    result.append(qc.run(p)[0,0])\n",
    "\n",
    "print(np.array(result))"
   ]
  },
  {
   "cell_type": "code",
   "execution_count": null,
   "metadata": {},
   "outputs": [],
   "source": [
    "qc = get_qc('2q-qvm')\n",
    "p = Program()\n",
    "p += X(0)\n",
    "p += H(1)\n",
    "#ro is short for readout\n",
    "ro = p.declare('ro', 'BIT', 16)\n",
    "p += MEASURE(0, ro[0])\n",
    "# p += MEASURE(1, ro[1])\n",
    "# p += H(0)\n",
    "p.wrap_in_numshots_loop(100)\n",
    "result = qc.run(p)\n",
    "\n",
    "print(result[:])"
   ]
  },
  {
   "cell_type": "markdown",
   "metadata": {},
   "source": [
    "## Noise"
   ]
  },
  {
   "cell_type": "code",
   "execution_count": null,
   "metadata": {},
   "outputs": [],
   "source": [
    "qc = get_qc('2q-qvm', noisy=True)\n",
    "p = Program(H(0))\n",
    "run_and_visualize(p, n_qubits=1, qc=qc)"
   ]
  },
  {
   "cell_type": "code",
   "execution_count": null,
   "metadata": {
    "scrolled": true
   },
   "outputs": [],
   "source": [
    "qc = get_qc('2q-qvm', noisy=True)\n",
    "p = Program(X(0))\n",
    "run_and_visualize(p, n_qubits=1, qc=qc, trials=100)"
   ]
  },
  {
   "cell_type": "code",
   "execution_count": null,
   "metadata": {},
   "outputs": [],
   "source": [
    "p = Program(X(0))\n",
    "qc = get_qc('2q', as_qvm=True, noisy=True)\n",
    "result = qc.run_and_measure(p, trials=10000)\n",
    "print(result[0].sum())"
   ]
  },
  {
   "cell_type": "code",
   "execution_count": null,
   "metadata": {},
   "outputs": [],
   "source": [
    "run_and_visualize(p, n_qubits=1, qc=qc, trials=100)"
   ]
  },
  {
   "cell_type": "code",
   "execution_count": null,
   "metadata": {},
   "outputs": [],
   "source": [
    "qc = get_qc('3q', as_qvm=True, noisy=True)\n",
    "p = Program(H(0), H(1), H(2))\n",
    "run_and_visualize(p, n_qubits=3, qc=qc,trials=10000)"
   ]
  },
  {
   "cell_type": "code",
   "execution_count": null,
   "metadata": {},
   "outputs": [],
   "source": [
    "qc = get_qc('3q', as_qvm=True, noisy=False)\n",
    "p = Program(H(0), H(1), H(2))\n",
    "run_and_visualize(p, n_qubits=3, qc=qc,trials=10000)"
   ]
  },
  {
   "cell_type": "markdown",
   "metadata": {},
   "source": [
    "### Read the docs: [More about noise models](https://pyquil.readthedocs.io/en/stable/apidocs/noise.html)"
   ]
  },
  {
   "cell_type": "markdown",
   "metadata": {},
   "source": [
    "## Connectivity"
   ]
  },
  {
   "cell_type": "code",
   "execution_count": null,
   "metadata": {},
   "outputs": [],
   "source": [
    "from pyquil import list_quantum_computers\n",
    "list_quantum_computers()"
   ]
  },
  {
   "cell_type": "code",
   "execution_count": null,
   "metadata": {},
   "outputs": [],
   "source": [
    "qc = get_qc('Aspen-1-2Q-B')\n",
    "# qc = get_qc('Aspen-1-2Q-B',as_qvm=True)\n",
    "# qc = get_qc('Aspen-1-9Q-B',as_qvm=True)\n",
    "# qc = get_qc('Aspen-1-15Q-A',as_qvm=True)\n",
    "p = Program(X(0))\n",
    "run_and_visualize(p, n_qubits=1, qc=qc, trials=100)"
   ]
  },
  {
   "cell_type": "code",
   "execution_count": null,
   "metadata": {},
   "outputs": [],
   "source": [
    "import networkx as nx\n",
    "def visualize_topology(qc_name):\n",
    "    qc = get_qc(qc_name, as_qvm=True)\n",
    "    print(\"nodes:\", qc.qubit_topology().nodes)\n",
    "    print(\"edges:\", qc.qubit_topology().edges)\n",
    "    nx.draw(qc.qubit_topology())\n",
    "    from matplotlib import pyplot as plt\n",
    "    _ = plt.title(qc_name, fontsize=18)"
   ]
  },
  {
   "cell_type": "code",
   "execution_count": null,
   "metadata": {},
   "outputs": [],
   "source": [
    "visualize_topology('Aspen-1-2Q-B')"
   ]
  },
  {
   "cell_type": "code",
   "execution_count": null,
   "metadata": {},
   "outputs": [],
   "source": [
    "# qc = get_qc('17q', as_qvm=True)\n",
    "qc = get_qc('Aspen-1-5Q-B', as_qvm=True)\n",
    "p = Program()\n",
    "p += H(0)\n",
    "p += CNOT(0, 14)\n",
    "p += CNOT(0, 1)\n",
    "# p += CNOT(0, 16)\n",
    "# p += CNOT(0, 15)\n",
    "print(qc.compile(p).program)"
   ]
  },
  {
   "cell_type": "markdown",
   "metadata": {},
   "source": [
    "### Read the docs: [Hierararchy of realism](http://docs.rigetti.com/en/stable/migration2-qc.html#Heirarchy-of-realism)"
   ]
  },
  {
   "cell_type": "markdown",
   "metadata": {},
   "source": [
    "- `WavefunctionSimulator` to debug algorithm\n",
    "- `get_qc(\"5q-qvm\")` to debug sampling\n",
    "- `get_qc(\"9q-square-qvm\")` to debug mapping to a lattice\n",
    "- `get_qc(\"9q-square-noisy-qvm\")` to debug generic noise characteristics\n",
    "- `get_qc(\"Aspen-0-16Q-A-qvm\")` to debug mapping to a real lattice\n",
    "- `get_qc(\"Aspen-0-16Q-A-noisy-qvm\")` to debug noise characteristics of a real device\n",
    "- `get_qc(\"Aspen-0-16Q-A\")` to run on a real device\n",
    "\n"
   ]
  },
  {
   "cell_type": "markdown",
   "metadata": {},
   "source": [
    "### Read the docs: [Providing your own chip topology](http://docs.rigetti.com/en/stable/qvm.html#providing-your-own-device-topology)"
   ]
  },
  {
   "cell_type": "markdown",
   "metadata": {},
   "source": [
    "## Parametric compilation"
   ]
  },
  {
   "cell_type": "code",
   "execution_count": null,
   "metadata": {},
   "outputs": [],
   "source": [
    "p = Program()\n",
    "ro = p.declare(\"ro\", \"BIT\", 1)\n",
    "theta_ref = p.declare(\"theta\", \"REAL\")\n",
    "\n",
    "p += RX(np.pi / 2, 0)\n",
    "p += RZ(theta_ref, 0)\n",
    "p += RX(-np.pi / 2, 0)\n",
    "p += MEASURE(qubit, ro[0])\n"
   ]
  },
  {
   "cell_type": "code",
   "execution_count": null,
   "metadata": {},
   "outputs": [],
   "source": [
    "# Get a Quantum Virtual Machine to simulate execution\n",
    "qc = get_qc(\"1q-qvm\")\n",
    "executable = qc.compile(p)\n",
    "print(executable.program)\n"
   ]
  },
  {
   "cell_type": "code",
   "execution_count": null,
   "metadata": {},
   "outputs": [],
   "source": [
    "parametric_measurements = []\n",
    "\n",
    "for theta in np.linspace(0, 2 * np.pi, 200):\n",
    "    # Get the results of the run with the value we want to execute with\n",
    "    bitstrings = qc.run(executable, {'theta': [theta]})\n",
    "    # Store our results\n",
    "    parametric_measurements.append(bitstrings)\n"
   ]
  },
  {
   "cell_type": "code",
   "execution_count": null,
   "metadata": {},
   "outputs": [],
   "source": [
    "p = Program()\n",
    "p += RX(np.pi / 2, 0)\n",
    "p += RZ(0, qubit)\n",
    "p += RX(-np.pi / 2, 0)\n",
    "\n",
    "print(p)\n",
    "plot_quantum_state(p)"
   ]
  },
  {
   "cell_type": "markdown",
   "metadata": {},
   "source": [
    "### Read the docs: [Parametric compilation](http://docs.rigetti.com/en/stable/basics.html#parametric-compilation)"
   ]
  },
  {
   "cell_type": "markdown",
   "metadata": {},
   "source": [
    "## Simple optimization example"
   ]
  },
  {
   "cell_type": "markdown",
   "metadata": {},
   "source": [
    "[Gradient descent source](https://towardsdatascience.com/implement-gradient-descent-in-python-9b93ed7108d1)"
   ]
  },
  {
   "cell_type": "code",
   "execution_count": null,
   "metadata": {},
   "outputs": [],
   "source": [
    "p = Program()\n",
    "ro = p.declare(\"ro\", \"BIT\", 3)\n",
    "theta_0_ref = p.declare(\"theta_0\", \"REAL\")\n",
    "p += RX(theta_0_ref, 0)\n",
    "p += MEASURE(0, ro[0])\n",
    "p.wrap_in_numshots_loop(1000);"
   ]
  },
  {
   "cell_type": "code",
   "execution_count": null,
   "metadata": {},
   "outputs": [],
   "source": [
    "qc = get_qc(\"1q\", as_qvm=True, noisy=False)\n",
    "executable = qc.compile(p)\n",
    "print(executable.program)"
   ]
  },
  {
   "cell_type": "code",
   "execution_count": null,
   "metadata": {},
   "outputs": [],
   "source": [
    "bitstrings = qc.run(executable, {'theta_0': [0]})\n",
    "bitstrings.sum()/1000"
   ]
  },
  {
   "cell_type": "code",
   "execution_count": null,
   "metadata": {},
   "outputs": [],
   "source": [
    "theta_0 = np.pi # The algorithm starts at pi\n",
    "rate = 0.01 # Learning rate\n",
    "precision = 1e-5 #This tells us when to stop the algorithm\n",
    "previous_step_size = 1 #\n",
    "max_iters = 1000 # maximum number of iterations\n",
    "iters = 0 #iteration counter\n",
    "def cost_fun(x):\n",
    "    return 2*(x - 0.5)\n"
   ]
  },
  {
   "cell_type": "code",
   "execution_count": null,
   "metadata": {},
   "outputs": [],
   "source": [
    "while previous_step_size > precision and iters < max_iters:\n",
    "    prev_theta_0 = theta_0 #Store current x value in prev_x\n",
    "    bitstrings = qc.run(executable, {'theta_0': [theta_0]})\n",
    "    y = bitstrings.sum() / 100\n",
    "    theta_0 = theta_0 - rate * cost_fun(y) #Grad descent\n",
    "    previous_step_size = abs(theta_0 - prev_theta_0) #Change in x\n",
    "    iters = iters + 1 #iteration count\n",
    "    if iters%20 == 0:\n",
    "        print(\"Iteration\",iters,\"\\nY:\",y, \"\\nTheta:\", theta_0 / np.pi, \"pi\") #Print iterations\n",
    "    \n",
    "print(\"The optimal value of theta:\", np.round(theta_0/np.pi,3), \"pi\")\n",
    "print(\"Number of iterations:\", iters)\n"
   ]
  },
  {
   "cell_type": "markdown",
   "metadata": {},
   "source": [
    "## Further materials"
   ]
  },
  {
   "cell_type": "markdown",
   "metadata": {},
   "source": [
    "- [Bohr.Technology](https://www.bohr.technology)\n",
    "- My tutorial on solving Travelling Salesman Problem: https://github.com/mstechly/quantum_tsp_tutorials\n",
    "- I re-used parts of [this tutorial](https://github.com/markf94/rigetti_training_material/blob/master/session_2/tutorial_II_quantum_gates.ipynb) by Mark Fingerhuth and Tomas Babej from [ProteinQure](https://proteinqure.com)\n",
    "- [Quantum Open Source Foundation](https://www.qosf.org) - many good learning materials here\n",
    "- [Someone shouts |01000>. Who get's excited?](https://arxiv.org/pdf/1711.02086.pdf) - a short article about the notation used in pyQuil\n",
    "- [bqResearcher program](https://www.bohr.technology/bqresearcher)\n",
    "- [YT playlist with some interesting videos about QC](https://www.youtube.com/playlist?list=PLpQk8lG_JZSrgMdQK6Tibmk8EpISYak3P)\n",
    "- [Interested in business potential of QC? - article from Przemek Chojecki (Bohr CTO)](https://medium.com/@pchojecki/quantum-computing-for-business-347b95d400f9)\n",
    "- [Interested in how to get a job in QC? - my article](https://medium.com/@michal.stechly/how-i-got-a-job-in-quantum-computing-7049b81caf91)"
   ]
  },
  {
   "cell_type": "code",
   "execution_count": null,
   "metadata": {},
   "outputs": [],
   "source": []
  }
 ],
 "metadata": {
  "kernelspec": {
   "display_name": "warsaw_qc",
   "language": "python",
   "name": "warsaw_qc"
  },
  "language_info": {
   "codemirror_mode": {
    "name": "ipython",
    "version": 3
   },
   "file_extension": ".py",
   "mimetype": "text/x-python",
   "name": "python",
   "nbconvert_exporter": "python",
   "pygments_lexer": "ipython3",
   "version": "3.6.4"
  }
 },
 "nbformat": 4,
 "nbformat_minor": 2
}
